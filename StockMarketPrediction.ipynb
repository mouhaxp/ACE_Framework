{
  "nbformat": 4,
  "nbformat_minor": 0,
  "metadata": {
    "colab": {
      "provenance": [],
      "include_colab_link": true
    },
    "kernelspec": {
      "name": "python3",
      "display_name": "Python 3"
    },
    "language_info": {
      "name": "python"
    }
  },
  "cells": [
    {
      "cell_type": "markdown",
      "metadata": {
        "id": "view-in-github",
        "colab_type": "text"
      },
      "source": [
        "<a href=\"https://colab.research.google.com/github/mouhaxp/ACE_Framework/blob/main/StockMarketPrediction.ipynb\" target=\"_parent\"><img src=\"https://colab.research.google.com/assets/colab-badge.svg\" alt=\"Open In Colab\"/></a>"
      ]
    },
    {
      "cell_type": "code",
      "source": [
        "import yfinance as yf\n",
        "\n",
        "stock_data = yf.download('DAC', start='2014-02-21', end='2024-02-21')\n",
        "stock_data"
      ],
      "metadata": {
        "colab": {
          "base_uri": "https://localhost:8080/",
          "height": 472
        },
        "id": "W1ysuknEH6wu",
        "outputId": "e2c5fb09-8093-4d18-d559-fcc80234d246"
      },
      "execution_count": null,
      "outputs": [
        {
          "output_type": "stream",
          "name": "stderr",
          "text": [
            "\r[*********************100%%**********************]  1 of 1 completed\n"
          ]
        },
        {
          "output_type": "execute_result",
          "data": {
            "text/plain": [
              "                 Open       High        Low      Close  Adj Close  Volume\n",
              "Date                                                                     \n",
              "2014-02-21  86.800003  90.440002  86.379997  88.199997  79.023415    1179\n",
              "2014-02-24  88.339996  90.440002  86.660004  89.599998  80.277763    2021\n",
              "2014-02-25  89.599998  90.160004  86.660004  88.480003  79.274292    1571\n",
              "2014-02-26  89.320000  89.739998  86.800003  89.040001  79.776031    1600\n",
              "2014-02-27  88.199997  89.320000  85.120003  87.360001  78.270813    2164\n",
              "...               ...        ...        ...        ...        ...     ...\n",
              "2024-02-13  75.989998  76.440002  74.970001  75.449997  75.449997  110400\n",
              "2024-02-14  72.650002  74.949997  72.019997  72.570000  72.570000  189800\n",
              "2024-02-15  72.360001  72.849998  71.660004  72.040001  72.040001  128700\n",
              "2024-02-16  72.040001  72.500000  71.290001  71.669998  71.669998  106800\n",
              "2024-02-20  71.639999  71.639999  70.099998  70.860001  70.860001  120800\n",
              "\n",
              "[2516 rows x 6 columns]"
            ],
            "text/html": [
              "\n",
              "  <div id=\"df-462e7ad6-5bea-45d0-848a-1a62fd7b6d92\" class=\"colab-df-container\">\n",
              "    <div>\n",
              "<style scoped>\n",
              "    .dataframe tbody tr th:only-of-type {\n",
              "        vertical-align: middle;\n",
              "    }\n",
              "\n",
              "    .dataframe tbody tr th {\n",
              "        vertical-align: top;\n",
              "    }\n",
              "\n",
              "    .dataframe thead th {\n",
              "        text-align: right;\n",
              "    }\n",
              "</style>\n",
              "<table border=\"1\" class=\"dataframe\">\n",
              "  <thead>\n",
              "    <tr style=\"text-align: right;\">\n",
              "      <th></th>\n",
              "      <th>Open</th>\n",
              "      <th>High</th>\n",
              "      <th>Low</th>\n",
              "      <th>Close</th>\n",
              "      <th>Adj Close</th>\n",
              "      <th>Volume</th>\n",
              "    </tr>\n",
              "    <tr>\n",
              "      <th>Date</th>\n",
              "      <th></th>\n",
              "      <th></th>\n",
              "      <th></th>\n",
              "      <th></th>\n",
              "      <th></th>\n",
              "      <th></th>\n",
              "    </tr>\n",
              "  </thead>\n",
              "  <tbody>\n",
              "    <tr>\n",
              "      <th>2014-02-21</th>\n",
              "      <td>86.800003</td>\n",
              "      <td>90.440002</td>\n",
              "      <td>86.379997</td>\n",
              "      <td>88.199997</td>\n",
              "      <td>79.023415</td>\n",
              "      <td>1179</td>\n",
              "    </tr>\n",
              "    <tr>\n",
              "      <th>2014-02-24</th>\n",
              "      <td>88.339996</td>\n",
              "      <td>90.440002</td>\n",
              "      <td>86.660004</td>\n",
              "      <td>89.599998</td>\n",
              "      <td>80.277763</td>\n",
              "      <td>2021</td>\n",
              "    </tr>\n",
              "    <tr>\n",
              "      <th>2014-02-25</th>\n",
              "      <td>89.599998</td>\n",
              "      <td>90.160004</td>\n",
              "      <td>86.660004</td>\n",
              "      <td>88.480003</td>\n",
              "      <td>79.274292</td>\n",
              "      <td>1571</td>\n",
              "    </tr>\n",
              "    <tr>\n",
              "      <th>2014-02-26</th>\n",
              "      <td>89.320000</td>\n",
              "      <td>89.739998</td>\n",
              "      <td>86.800003</td>\n",
              "      <td>89.040001</td>\n",
              "      <td>79.776031</td>\n",
              "      <td>1600</td>\n",
              "    </tr>\n",
              "    <tr>\n",
              "      <th>2014-02-27</th>\n",
              "      <td>88.199997</td>\n",
              "      <td>89.320000</td>\n",
              "      <td>85.120003</td>\n",
              "      <td>87.360001</td>\n",
              "      <td>78.270813</td>\n",
              "      <td>2164</td>\n",
              "    </tr>\n",
              "    <tr>\n",
              "      <th>...</th>\n",
              "      <td>...</td>\n",
              "      <td>...</td>\n",
              "      <td>...</td>\n",
              "      <td>...</td>\n",
              "      <td>...</td>\n",
              "      <td>...</td>\n",
              "    </tr>\n",
              "    <tr>\n",
              "      <th>2024-02-13</th>\n",
              "      <td>75.989998</td>\n",
              "      <td>76.440002</td>\n",
              "      <td>74.970001</td>\n",
              "      <td>75.449997</td>\n",
              "      <td>75.449997</td>\n",
              "      <td>110400</td>\n",
              "    </tr>\n",
              "    <tr>\n",
              "      <th>2024-02-14</th>\n",
              "      <td>72.650002</td>\n",
              "      <td>74.949997</td>\n",
              "      <td>72.019997</td>\n",
              "      <td>72.570000</td>\n",
              "      <td>72.570000</td>\n",
              "      <td>189800</td>\n",
              "    </tr>\n",
              "    <tr>\n",
              "      <th>2024-02-15</th>\n",
              "      <td>72.360001</td>\n",
              "      <td>72.849998</td>\n",
              "      <td>71.660004</td>\n",
              "      <td>72.040001</td>\n",
              "      <td>72.040001</td>\n",
              "      <td>128700</td>\n",
              "    </tr>\n",
              "    <tr>\n",
              "      <th>2024-02-16</th>\n",
              "      <td>72.040001</td>\n",
              "      <td>72.500000</td>\n",
              "      <td>71.290001</td>\n",
              "      <td>71.669998</td>\n",
              "      <td>71.669998</td>\n",
              "      <td>106800</td>\n",
              "    </tr>\n",
              "    <tr>\n",
              "      <th>2024-02-20</th>\n",
              "      <td>71.639999</td>\n",
              "      <td>71.639999</td>\n",
              "      <td>70.099998</td>\n",
              "      <td>70.860001</td>\n",
              "      <td>70.860001</td>\n",
              "      <td>120800</td>\n",
              "    </tr>\n",
              "  </tbody>\n",
              "</table>\n",
              "<p>2516 rows × 6 columns</p>\n",
              "</div>\n",
              "    <div class=\"colab-df-buttons\">\n",
              "\n",
              "  <div class=\"colab-df-container\">\n",
              "    <button class=\"colab-df-convert\" onclick=\"convertToInteractive('df-462e7ad6-5bea-45d0-848a-1a62fd7b6d92')\"\n",
              "            title=\"Convert this dataframe to an interactive table.\"\n",
              "            style=\"display:none;\">\n",
              "\n",
              "  <svg xmlns=\"http://www.w3.org/2000/svg\" height=\"24px\" viewBox=\"0 -960 960 960\">\n",
              "    <path d=\"M120-120v-720h720v720H120Zm60-500h600v-160H180v160Zm220 220h160v-160H400v160Zm0 220h160v-160H400v160ZM180-400h160v-160H180v160Zm440 0h160v-160H620v160ZM180-180h160v-160H180v160Zm440 0h160v-160H620v160Z\"/>\n",
              "  </svg>\n",
              "    </button>\n",
              "\n",
              "  <style>\n",
              "    .colab-df-container {\n",
              "      display:flex;\n",
              "      gap: 12px;\n",
              "    }\n",
              "\n",
              "    .colab-df-convert {\n",
              "      background-color: #E8F0FE;\n",
              "      border: none;\n",
              "      border-radius: 50%;\n",
              "      cursor: pointer;\n",
              "      display: none;\n",
              "      fill: #1967D2;\n",
              "      height: 32px;\n",
              "      padding: 0 0 0 0;\n",
              "      width: 32px;\n",
              "    }\n",
              "\n",
              "    .colab-df-convert:hover {\n",
              "      background-color: #E2EBFA;\n",
              "      box-shadow: 0px 1px 2px rgba(60, 64, 67, 0.3), 0px 1px 3px 1px rgba(60, 64, 67, 0.15);\n",
              "      fill: #174EA6;\n",
              "    }\n",
              "\n",
              "    .colab-df-buttons div {\n",
              "      margin-bottom: 4px;\n",
              "    }\n",
              "\n",
              "    [theme=dark] .colab-df-convert {\n",
              "      background-color: #3B4455;\n",
              "      fill: #D2E3FC;\n",
              "    }\n",
              "\n",
              "    [theme=dark] .colab-df-convert:hover {\n",
              "      background-color: #434B5C;\n",
              "      box-shadow: 0px 1px 3px 1px rgba(0, 0, 0, 0.15);\n",
              "      filter: drop-shadow(0px 1px 2px rgba(0, 0, 0, 0.3));\n",
              "      fill: #FFFFFF;\n",
              "    }\n",
              "  </style>\n",
              "\n",
              "    <script>\n",
              "      const buttonEl =\n",
              "        document.querySelector('#df-462e7ad6-5bea-45d0-848a-1a62fd7b6d92 button.colab-df-convert');\n",
              "      buttonEl.style.display =\n",
              "        google.colab.kernel.accessAllowed ? 'block' : 'none';\n",
              "\n",
              "      async function convertToInteractive(key) {\n",
              "        const element = document.querySelector('#df-462e7ad6-5bea-45d0-848a-1a62fd7b6d92');\n",
              "        const dataTable =\n",
              "          await google.colab.kernel.invokeFunction('convertToInteractive',\n",
              "                                                    [key], {});\n",
              "        if (!dataTable) return;\n",
              "\n",
              "        const docLinkHtml = 'Like what you see? Visit the ' +\n",
              "          '<a target=\"_blank\" href=https://colab.research.google.com/notebooks/data_table.ipynb>data table notebook</a>'\n",
              "          + ' to learn more about interactive tables.';\n",
              "        element.innerHTML = '';\n",
              "        dataTable['output_type'] = 'display_data';\n",
              "        await google.colab.output.renderOutput(dataTable, element);\n",
              "        const docLink = document.createElement('div');\n",
              "        docLink.innerHTML = docLinkHtml;\n",
              "        element.appendChild(docLink);\n",
              "      }\n",
              "    </script>\n",
              "  </div>\n",
              "\n",
              "\n",
              "<div id=\"df-a9683ca9-c8b0-4036-a6f1-4b96ed299f55\">\n",
              "  <button class=\"colab-df-quickchart\" onclick=\"quickchart('df-a9683ca9-c8b0-4036-a6f1-4b96ed299f55')\"\n",
              "            title=\"Suggest charts\"\n",
              "            style=\"display:none;\">\n",
              "\n",
              "<svg xmlns=\"http://www.w3.org/2000/svg\" height=\"24px\"viewBox=\"0 0 24 24\"\n",
              "     width=\"24px\">\n",
              "    <g>\n",
              "        <path d=\"M19 3H5c-1.1 0-2 .9-2 2v14c0 1.1.9 2 2 2h14c1.1 0 2-.9 2-2V5c0-1.1-.9-2-2-2zM9 17H7v-7h2v7zm4 0h-2V7h2v10zm4 0h-2v-4h2v4z\"/>\n",
              "    </g>\n",
              "</svg>\n",
              "  </button>\n",
              "\n",
              "<style>\n",
              "  .colab-df-quickchart {\n",
              "      --bg-color: #E8F0FE;\n",
              "      --fill-color: #1967D2;\n",
              "      --hover-bg-color: #E2EBFA;\n",
              "      --hover-fill-color: #174EA6;\n",
              "      --disabled-fill-color: #AAA;\n",
              "      --disabled-bg-color: #DDD;\n",
              "  }\n",
              "\n",
              "  [theme=dark] .colab-df-quickchart {\n",
              "      --bg-color: #3B4455;\n",
              "      --fill-color: #D2E3FC;\n",
              "      --hover-bg-color: #434B5C;\n",
              "      --hover-fill-color: #FFFFFF;\n",
              "      --disabled-bg-color: #3B4455;\n",
              "      --disabled-fill-color: #666;\n",
              "  }\n",
              "\n",
              "  .colab-df-quickchart {\n",
              "    background-color: var(--bg-color);\n",
              "    border: none;\n",
              "    border-radius: 50%;\n",
              "    cursor: pointer;\n",
              "    display: none;\n",
              "    fill: var(--fill-color);\n",
              "    height: 32px;\n",
              "    padding: 0;\n",
              "    width: 32px;\n",
              "  }\n",
              "\n",
              "  .colab-df-quickchart:hover {\n",
              "    background-color: var(--hover-bg-color);\n",
              "    box-shadow: 0 1px 2px rgba(60, 64, 67, 0.3), 0 1px 3px 1px rgba(60, 64, 67, 0.15);\n",
              "    fill: var(--button-hover-fill-color);\n",
              "  }\n",
              "\n",
              "  .colab-df-quickchart-complete:disabled,\n",
              "  .colab-df-quickchart-complete:disabled:hover {\n",
              "    background-color: var(--disabled-bg-color);\n",
              "    fill: var(--disabled-fill-color);\n",
              "    box-shadow: none;\n",
              "  }\n",
              "\n",
              "  .colab-df-spinner {\n",
              "    border: 2px solid var(--fill-color);\n",
              "    border-color: transparent;\n",
              "    border-bottom-color: var(--fill-color);\n",
              "    animation:\n",
              "      spin 1s steps(1) infinite;\n",
              "  }\n",
              "\n",
              "  @keyframes spin {\n",
              "    0% {\n",
              "      border-color: transparent;\n",
              "      border-bottom-color: var(--fill-color);\n",
              "      border-left-color: var(--fill-color);\n",
              "    }\n",
              "    20% {\n",
              "      border-color: transparent;\n",
              "      border-left-color: var(--fill-color);\n",
              "      border-top-color: var(--fill-color);\n",
              "    }\n",
              "    30% {\n",
              "      border-color: transparent;\n",
              "      border-left-color: var(--fill-color);\n",
              "      border-top-color: var(--fill-color);\n",
              "      border-right-color: var(--fill-color);\n",
              "    }\n",
              "    40% {\n",
              "      border-color: transparent;\n",
              "      border-right-color: var(--fill-color);\n",
              "      border-top-color: var(--fill-color);\n",
              "    }\n",
              "    60% {\n",
              "      border-color: transparent;\n",
              "      border-right-color: var(--fill-color);\n",
              "    }\n",
              "    80% {\n",
              "      border-color: transparent;\n",
              "      border-right-color: var(--fill-color);\n",
              "      border-bottom-color: var(--fill-color);\n",
              "    }\n",
              "    90% {\n",
              "      border-color: transparent;\n",
              "      border-bottom-color: var(--fill-color);\n",
              "    }\n",
              "  }\n",
              "</style>\n",
              "\n",
              "  <script>\n",
              "    async function quickchart(key) {\n",
              "      const quickchartButtonEl =\n",
              "        document.querySelector('#' + key + ' button');\n",
              "      quickchartButtonEl.disabled = true;  // To prevent multiple clicks.\n",
              "      quickchartButtonEl.classList.add('colab-df-spinner');\n",
              "      try {\n",
              "        const charts = await google.colab.kernel.invokeFunction(\n",
              "            'suggestCharts', [key], {});\n",
              "      } catch (error) {\n",
              "        console.error('Error during call to suggestCharts:', error);\n",
              "      }\n",
              "      quickchartButtonEl.classList.remove('colab-df-spinner');\n",
              "      quickchartButtonEl.classList.add('colab-df-quickchart-complete');\n",
              "    }\n",
              "    (() => {\n",
              "      let quickchartButtonEl =\n",
              "        document.querySelector('#df-a9683ca9-c8b0-4036-a6f1-4b96ed299f55 button');\n",
              "      quickchartButtonEl.style.display =\n",
              "        google.colab.kernel.accessAllowed ? 'block' : 'none';\n",
              "    })();\n",
              "  </script>\n",
              "</div>\n",
              "\n",
              "  <div id=\"id_1ddbb842-9168-44c4-997f-d3dd391faeb2\">\n",
              "    <style>\n",
              "      .colab-df-generate {\n",
              "        background-color: #E8F0FE;\n",
              "        border: none;\n",
              "        border-radius: 50%;\n",
              "        cursor: pointer;\n",
              "        display: none;\n",
              "        fill: #1967D2;\n",
              "        height: 32px;\n",
              "        padding: 0 0 0 0;\n",
              "        width: 32px;\n",
              "      }\n",
              "\n",
              "      .colab-df-generate:hover {\n",
              "        background-color: #E2EBFA;\n",
              "        box-shadow: 0px 1px 2px rgba(60, 64, 67, 0.3), 0px 1px 3px 1px rgba(60, 64, 67, 0.15);\n",
              "        fill: #174EA6;\n",
              "      }\n",
              "\n",
              "      [theme=dark] .colab-df-generate {\n",
              "        background-color: #3B4455;\n",
              "        fill: #D2E3FC;\n",
              "      }\n",
              "\n",
              "      [theme=dark] .colab-df-generate:hover {\n",
              "        background-color: #434B5C;\n",
              "        box-shadow: 0px 1px 3px 1px rgba(0, 0, 0, 0.15);\n",
              "        filter: drop-shadow(0px 1px 2px rgba(0, 0, 0, 0.3));\n",
              "        fill: #FFFFFF;\n",
              "      }\n",
              "    </style>\n",
              "    <button class=\"colab-df-generate\" onclick=\"generateWithVariable('stock_data')\"\n",
              "            title=\"Generate code using this dataframe.\"\n",
              "            style=\"display:none;\">\n",
              "\n",
              "  <svg xmlns=\"http://www.w3.org/2000/svg\" height=\"24px\"viewBox=\"0 0 24 24\"\n",
              "       width=\"24px\">\n",
              "    <path d=\"M7,19H8.4L18.45,9,17,7.55,7,17.6ZM5,21V16.75L18.45,3.32a2,2,0,0,1,2.83,0l1.4,1.43a1.91,1.91,0,0,1,.58,1.4,1.91,1.91,0,0,1-.58,1.4L9.25,21ZM18.45,9,17,7.55Zm-12,3A5.31,5.31,0,0,0,4.9,8.1,5.31,5.31,0,0,0,1,6.5,5.31,5.31,0,0,0,4.9,4.9,5.31,5.31,0,0,0,6.5,1,5.31,5.31,0,0,0,8.1,4.9,5.31,5.31,0,0,0,12,6.5,5.46,5.46,0,0,0,6.5,12Z\"/>\n",
              "  </svg>\n",
              "    </button>\n",
              "    <script>\n",
              "      (() => {\n",
              "      const buttonEl =\n",
              "        document.querySelector('#id_1ddbb842-9168-44c4-997f-d3dd391faeb2 button.colab-df-generate');\n",
              "      buttonEl.style.display =\n",
              "        google.colab.kernel.accessAllowed ? 'block' : 'none';\n",
              "\n",
              "      buttonEl.onclick = () => {\n",
              "        google.colab.notebook.generateWithVariable('stock_data');\n",
              "      }\n",
              "      })();\n",
              "    </script>\n",
              "  </div>\n",
              "\n",
              "    </div>\n",
              "  </div>\n"
            ],
            "application/vnd.google.colaboratory.intrinsic+json": {
              "type": "dataframe",
              "variable_name": "stock_data",
              "summary": "{\n  \"name\": \"stock_data\",\n  \"rows\": 2516,\n  \"fields\": [\n    {\n      \"column\": \"Open\",\n      \"properties\": {\n        \"dtype\": \"number\",\n        \"std\": 29.722956947607976,\n        \"min\": 2.799999952316284,\n        \"max\": 107.0,\n        \"num_unique_values\": 1357,\n        \"samples\": [\n          85.4000015258789,\n          58.34000015258789,\n          68.80000305175781\n        ],\n        \"semantic_type\": \"\",\n        \"description\": \"\"\n      }\n    },\n    {\n      \"column\": \"High\",\n      \"properties\": {\n        \"dtype\": \"number\",\n        \"std\": 30.143123054923695,\n        \"min\": 3.200000047683716,\n        \"max\": 107.47000122070312,\n        \"num_unique_values\": 1393,\n        \"samples\": [\n          23.799999237060547,\n          67.63999938964844,\n          95.83000183105469\n        ],\n        \"semantic_type\": \"\",\n        \"description\": \"\"\n      }\n    },\n    {\n      \"column\": \"Low\",\n      \"properties\": {\n        \"dtype\": \"number\",\n        \"std\": 29.149741255806948,\n        \"min\": 2.5,\n        \"max\": 105.2300033569336,\n        \"num_unique_values\": 1379,\n        \"samples\": [\n          4.150000095367432,\n          80.20999908447266,\n          4.099999904632568\n        ],\n        \"semantic_type\": \"\",\n        \"description\": \"\"\n      }\n    },\n    {\n      \"column\": \"Close\",\n      \"properties\": {\n        \"dtype\": \"number\",\n        \"std\": 29.773860322171704,\n        \"min\": 2.7799999713897705,\n        \"max\": 106.63999938964844,\n        \"num_unique_values\": 1412,\n        \"samples\": [\n          30.079999923706055,\n          66.9800033569336,\n          28.700000762939453\n        ],\n        \"semantic_type\": \"\",\n        \"description\": \"\"\n      }\n    },\n    {\n      \"column\": \"Adj Close\",\n      \"properties\": {\n        \"dtype\": \"number\",\n        \"std\": 27.380160916928837,\n        \"min\": 2.4907608032226562,\n        \"max\": 98.4078140258789,\n        \"num_unique_values\": 1497,\n        \"samples\": [\n          94.46745300292969,\n          54.56476974487305,\n          64.37214660644531\n        ],\n        \"semantic_type\": \"\",\n        \"description\": \"\"\n      }\n    },\n    {\n      \"column\": \"Volume\",\n      \"properties\": {\n        \"dtype\": \"number\",\n        \"std\": 209570,\n        \"min\": 71,\n        \"max\": 2851600,\n        \"num_unique_values\": 1805,\n        \"samples\": [\n          153000,\n          579,\n          24286\n        ],\n        \"semantic_type\": \"\",\n        \"description\": \"\"\n      }\n    }\n  ]\n}"
            }
          },
          "metadata": {},
          "execution_count": 66
        }
      ]
    },
    {
      "cell_type": "code",
      "source": [
        "from sklearn.preprocessing import MinMaxScaler\n",
        "\n",
        "scaler = MinMaxScaler(feature_range=(0, 1))\n",
        "scaled_data = scaler.fit_transform(stock_data['Close'].values.reshape(-1,1))"
      ],
      "metadata": {
        "id": "7cKrqCzQIss8"
      },
      "execution_count": null,
      "outputs": []
    },
    {
      "cell_type": "code",
      "source": [
        "import numpy as np\n",
        "\n",
        "def create_dataset(data, time_step):\n",
        "    X, y = [], []\n",
        "    for i in range(len(data) - time_step - 1):\n",
        "        X.append(data[i:(i + time_step), 0])\n",
        "        y.append(data[i + time_step, 0])\n",
        "    return np.array(X), np.array(y)"
      ],
      "metadata": {
        "id": "fV89a3_SIxkf"
      },
      "execution_count": null,
      "outputs": []
    },
    {
      "cell_type": "code",
      "source": [
        "time_step = 100\n",
        "X, y = create_dataset(scaled_data, time_step)\n",
        "\n",
        "train_size=0.8\n",
        "X_train, X_test = X[:int(X.shape[0]*train_size)], X[int(X.shape[0]*train_size):]\n",
        "y_train, y_test = y[:int(y.shape[0]*train_size)], y[int(y.shape[0]*train_size):]"
      ],
      "metadata": {
        "id": "en5ZWrAJI0ma"
      },
      "execution_count": null,
      "outputs": []
    },
    {
      "cell_type": "code",
      "source": [
        "from keras.models import Sequential\n",
        "from keras.layers import LSTM, Dense\n",
        "\n",
        "model = Sequential()\n",
        "model.add(LSTM(units=64, return_sequences=True, input_shape=(time_step, 1)))\n",
        "model.add(LSTM(units=64))\n",
        "model.add(Dense(units=64))\n",
        "model.add(Dense(units=1))"
      ],
      "metadata": {
        "id": "kAHxBHelI5nd"
      },
      "execution_count": null,
      "outputs": []
    },
    {
      "cell_type": "code",
      "source": [
        "model.compile(optimizer='adam', loss='mean_squared_error')\n",
        "model.fit(X_train, y_train, epochs=10, batch_size=64)"
      ],
      "metadata": {
        "colab": {
          "base_uri": "https://localhost:8080/"
        },
        "id": "YBJB-r1tI9us",
        "outputId": "52466e02-32a2-4d1b-a0bc-8d8af97f6289"
      },
      "execution_count": null,
      "outputs": [
        {
          "output_type": "stream",
          "name": "stdout",
          "text": [
            "Epoch 1/10\n",
            "31/31 [==============================] - 9s 188ms/step - loss: 0.0299\n",
            "Epoch 2/10\n",
            "31/31 [==============================] - 4s 125ms/step - loss: 0.0017\n",
            "Epoch 3/10\n",
            "31/31 [==============================] - 4s 136ms/step - loss: 0.0012\n",
            "Epoch 4/10\n",
            "31/31 [==============================] - 5s 151ms/step - loss: 0.0011\n",
            "Epoch 5/10\n",
            "31/31 [==============================] - 4s 116ms/step - loss: 0.0011\n",
            "Epoch 6/10\n",
            "31/31 [==============================] - 4s 116ms/step - loss: 0.0010\n",
            "Epoch 7/10\n",
            "31/31 [==============================] - 4s 135ms/step - loss: 9.6962e-04\n",
            "Epoch 8/10\n",
            "31/31 [==============================] - 4s 126ms/step - loss: 9.4256e-04\n",
            "Epoch 9/10\n",
            "31/31 [==============================] - 4s 117ms/step - loss: 8.8725e-04\n",
            "Epoch 10/10\n",
            "31/31 [==============================] - 4s 123ms/step - loss: 8.4802e-04\n"
          ]
        },
        {
          "output_type": "execute_result",
          "data": {
            "text/plain": [
              "<keras.src.callbacks.History at 0x78c316212c50>"
            ]
          },
          "metadata": {},
          "execution_count": 71
        }
      ]
    },
    {
      "cell_type": "code",
      "source": [
        "test_loss = model.evaluate(X_test, y_test)\n",
        "print('Test Loss:', test_loss)"
      ],
      "metadata": {
        "colab": {
          "base_uri": "https://localhost:8080/"
        },
        "id": "YKXB5xd3JBNw",
        "outputId": "394d20a5-01cf-405a-e39c-edfd1b5feb07"
      },
      "execution_count": null,
      "outputs": [
        {
          "output_type": "stream",
          "name": "stdout",
          "text": [
            "16/16 [==============================] - 2s 28ms/step - loss: 9.9067e-04\n",
            "Test Loss: 0.000990670407190919\n"
          ]
        }
      ]
    },
    {
      "cell_type": "code",
      "source": [
        "predictions = model.predict(X_test)\n",
        "predictions = scaler.inverse_transform(predictions)"
      ],
      "metadata": {
        "colab": {
          "base_uri": "https://localhost:8080/"
        },
        "id": "s0_8GQjxJDDd",
        "outputId": "9084d546-d2f5-4ee6-b175-7f81a8d12ca4"
      },
      "execution_count": null,
      "outputs": [
        {
          "output_type": "stream",
          "name": "stdout",
          "text": [
            "16/16 [==============================] - 1s 27ms/step\n"
          ]
        }
      ]
    },
    {
      "cell_type": "code",
      "source": [
        "original_data = stock_data['Close'].values\n",
        "predicted_data = np.empty_like(original_data)\n",
        "predicted_data[:] = np.nan\n",
        "predicted_data[-len(predictions):] = predictions.reshape(-1)"
      ],
      "metadata": {
        "id": "6du1NR6UJGB-"
      },
      "execution_count": null,
      "outputs": []
    },
    {
      "cell_type": "code",
      "source": [
        "import matplotlib.pyplot as plt\n",
        "\n",
        "plt.plot(original_data, label='Original Data')\n",
        "plt.plot(predicted_data, label='Predicted Data')\n",
        "plt.legend()\n",
        "plt.show()"
      ],
      "metadata": {
        "colab": {
          "base_uri": "https://localhost:8080/",
          "height": 430
        },
        "id": "M63465ggWqGd",
        "outputId": "8495ac11-e0f3-4358-ede9-a4fb80dda0b0"
      },
      "execution_count": null,
      "outputs": [
        {
          "output_type": "display_data",
          "data": {
            "text/plain": [
              "<Figure size 640x480 with 1 Axes>"
            ],
            "image/png": "[encoded data removed]"
          },
          "metadata": {}
        }
      ]
    },
    {
      "cell_type": "code",
      "source": [
        "new_predictions = model.predict(X_test[-90:])\n",
        "new_predictions = scaler.inverse_transform(new_predictions)\n",
        "\n",
        "predicted_data = np.append(predicted_data, new_predictions)\n",
        "predicted_data[-90:]"
      ],
      "metadata": {
        "id": "pCvpJRQkkTuK",
        "colab": {
          "base_uri": "https://localhost:8080/"
        },
        "outputId": "c34df7ab-0435-46ae-c6a2-a88b5a87642a"
      },
      "execution_count": null,
      "outputs": [
        {
          "output_type": "stream",
          "name": "stdout",
          "text": [
            "3/3 [==============================] - 0s 30ms/step\n"
          ]
        },
        {
          "output_type": "execute_result",
          "data": {
            "text/plain": [
              "array([67.23042297, 67.41574097, 67.57076263, 67.65789032, 67.69841766,\n",
              "       67.67560577, 67.62614441, 67.56473541, 67.46799469, 67.36478424,\n",
              "       67.27288055, 67.23451233, 67.20475769, 67.17167664, 67.13500214,\n",
              "       67.18338776, 67.2347641 , 67.28377533, 67.4285202 , 67.54155731,\n",
              "       67.55687714, 67.46051025, 67.14164734, 66.74717712, 66.31491852,\n",
              "       65.88716888, 65.83177185, 66.12194824, 66.48643494, 66.96652985,\n",
              "       67.525177  , 68.12732697, 68.74450684, 69.29756927, 69.77616119,\n",
              "       70.15694427, 70.39325714, 70.65563202, 71.0019455 , 71.37023163,\n",
              "       71.57131195, 71.59832001, 71.4230957 , 71.15084076, 70.75131226,\n",
              "       70.30122375, 69.90061951, 69.61210632, 69.62767029, 69.811203  ,\n",
              "       70.18994141, 70.6552124 , 71.27005768, 71.98023987, 72.67517853,\n",
              "       73.32233429, 73.86634827, 74.34614563, 74.78203583, 75.30469513,\n",
              "       75.94513702, 76.75601196, 77.4906311 , 78.00522614, 78.3341217 ,\n",
              "       78.48336029, 78.49069977, 78.45077515, 78.39910889, 78.32949829,\n",
              "       78.16510773, 77.93647003, 77.71695709, 77.62232208, 77.60649109,\n",
              "       77.65697479, 77.68376923, 77.80553436, 77.85466003, 77.80511475,\n",
              "       77.58343506, 77.27684021, 76.90104675, 76.61723328, 76.31190491,\n",
              "       76.04898071, 75.97631073, 75.97711945, 75.7888031 , 75.45733643])"
            ]
          },
          "metadata": {},
          "execution_count": 76
        }
      ]
    },
    {
      "cell_type": "code",
      "source": [
        "plt.plot(original_data, label='Original Data')\n",
        "plt.plot(predicted_data, label='Predicted Data')\n",
        "plt.legend()\n",
        "plt.show()"
      ],
      "metadata": {
        "colab": {
          "base_uri": "https://localhost:8080/",
          "height": 430
        },
        "id": "bF_6HIq7tGCt",
        "outputId": "d346a77f-dd31-4fb6-935a-0437903182d4"
      },
      "execution_count": null,
      "outputs": [
        {
          "output_type": "display_data",
          "data": {
            "text/plain": [
              "<Figure size 640x480 with 1 Axes>"
            ],
            "image/png": "[encoded data removed]"
          },
          "metadata": {}
        }
      ]
    }
  ]
}